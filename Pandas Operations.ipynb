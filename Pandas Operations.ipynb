{
 "metadata": {
  "language_info": {
   "codemirror_mode": {
    "name": "ipython",
    "version": 3
   },
   "file_extension": ".py",
   "mimetype": "text/x-python",
   "name": "python",
   "nbconvert_exporter": "python",
   "pygments_lexer": "ipython3",
   "version": "3.9.2"
  },
  "orig_nbformat": 2,
  "kernelspec": {
   "name": "python3",
   "display_name": "Python 3.9.2 64-bit (windows store)",
   "metadata": {
    "interpreter": {
     "hash": "b0f1e94f7b8dab6dcbaf8668d97b2de1660f8eb0c7f305b4109b0138f5684031"
    }
   }
  }
 },
 "nbformat": 4,
 "nbformat_minor": 2,
 "cells": [
  {
   "cell_type": "code",
   "execution_count": 4,
   "metadata": {},
   "outputs": [],
   "source": [
    "import pandas as pd\n",
    "test1 = pd.DataFrame({ 'Nama':['A','B','C','D','E' ],\n",
    "'Test1':[67,45,68,78,96],\n",
    "'Test2':[70,86,79,97,68],\n",
    "'Test3':[80,86,78,85,48]})\n"
   ]
  },
  {
   "cell_type": "code",
   "execution_count": 6,
   "metadata": {},
   "outputs": [
    {
     "output_type": "execute_result",
     "data": {
      "text/plain": [
       "  Nama  Test1  Test2  Test3\n",
       "0    A     67     70     80\n",
       "1    B     45     86     86\n",
       "2    C     68     79     78\n",
       "3    D     78     97     85\n",
       "4    E     96     68     48"
      ],
      "text/html": "<div>\n<style scoped>\n    .dataframe tbody tr th:only-of-type {\n        vertical-align: middle;\n    }\n\n    .dataframe tbody tr th {\n        vertical-align: top;\n    }\n\n    .dataframe thead th {\n        text-align: right;\n    }\n</style>\n<table border=\"1\" class=\"dataframe\">\n  <thead>\n    <tr style=\"text-align: right;\">\n      <th></th>\n      <th>Nama</th>\n      <th>Test1</th>\n      <th>Test2</th>\n      <th>Test3</th>\n    </tr>\n  </thead>\n  <tbody>\n    <tr>\n      <th>0</th>\n      <td>A</td>\n      <td>67</td>\n      <td>70</td>\n      <td>80</td>\n    </tr>\n    <tr>\n      <th>1</th>\n      <td>B</td>\n      <td>45</td>\n      <td>86</td>\n      <td>86</td>\n    </tr>\n    <tr>\n      <th>2</th>\n      <td>C</td>\n      <td>68</td>\n      <td>79</td>\n      <td>78</td>\n    </tr>\n    <tr>\n      <th>3</th>\n      <td>D</td>\n      <td>78</td>\n      <td>97</td>\n      <td>85</td>\n    </tr>\n    <tr>\n      <th>4</th>\n      <td>E</td>\n      <td>96</td>\n      <td>68</td>\n      <td>48</td>\n    </tr>\n  </tbody>\n</table>\n</div>"
     },
     "metadata": {},
     "execution_count": 6
    }
   ],
   "source": [
    "test1.head()"
   ]
  },
  {
   "cell_type": "code",
   "execution_count": 62,
   "metadata": {},
   "outputs": [],
   "source": [
    "def kriteria(x):\n",
    "    if x < 70:\n",
    "        return x,'remedial'\n",
    "    else:\n",
    "        return x,'lulus'"
   ]
  },
  {
   "cell_type": "code",
   "execution_count": 63,
   "metadata": {},
   "outputs": [],
   "source": [
    "nilai= test1.iloc[:,1:4]"
   ]
  },
  {
   "cell_type": "code",
   "execution_count": 85,
   "metadata": {},
   "outputs": [
    {
     "output_type": "execute_result",
     "data": {
      "text/plain": [
       "0    (67, remedial)\n",
       "1    (45, remedial)\n",
       "2    (68, remedial)\n",
       "3       (78, lulus)\n",
       "4       (96, lulus)\n",
       "Name: Test1, dtype: object"
      ]
     },
     "metadata": {},
     "execution_count": 85
    }
   ],
   "source": [
    "test1['Test1'].apply(kriteria)"
   ]
  },
  {
   "cell_type": "code",
   "execution_count": 87,
   "metadata": {},
   "outputs": [
    {
     "output_type": "execute_result",
     "data": {
      "text/plain": [
       "0    1\n",
       "1    1\n",
       "2    1\n",
       "3    1\n",
       "4    1\n",
       "Name: Nama, dtype: int64"
      ]
     },
     "metadata": {},
     "execution_count": 87
    }
   ],
   "source": [
    "test1['Nama'].apply(len)"
   ]
  },
  {
   "cell_type": "code",
   "execution_count": 89,
   "metadata": {},
   "outputs": [
    {
     "output_type": "execute_result",
     "data": {
      "text/plain": [
       "5"
      ]
     },
     "metadata": {},
     "execution_count": 89
    }
   ],
   "source": [
    "len(test1['Nama'])"
   ]
  },
  {
   "cell_type": "code",
   "execution_count": 96,
   "metadata": {},
   "outputs": [
    {
     "output_type": "execute_result",
     "data": {
      "text/plain": [
       "0    4489\n",
       "1    2025\n",
       "2    4624\n",
       "3    6084\n",
       "4    9216\n",
       "Name: Test1, dtype: int64"
      ]
     },
     "metadata": {},
     "execution_count": 96
    }
   ],
   "source": [
    "test1['Test1'].apply(lambda x:x*x)"
   ]
  },
  {
   "cell_type": "code",
   "execution_count": 101,
   "metadata": {},
   "outputs": [
    {
     "output_type": "execute_result",
     "data": {
      "text/plain": [
       "0    A\n",
       "1    B\n",
       "2    C\n",
       "3    D\n",
       "4    E\n",
       "Name: Nama, dtype: object"
      ]
     },
     "metadata": {},
     "execution_count": 101
    }
   ],
   "source": [
    "test1['Nama'].apply(lambda x:x[0])\n"
   ]
  },
  {
   "cell_type": "code",
   "execution_count": 102,
   "metadata": {},
   "outputs": [
    {
     "output_type": "execute_result",
     "data": {
      "text/plain": [
       "0    1\n",
       "1    1\n",
       "2    1\n",
       "3    1\n",
       "4    1\n",
       "Name: Nama, dtype: int64"
      ]
     },
     "metadata": {},
     "execution_count": 102
    }
   ],
   "source": [
    "test1['Nama'].apply(lambda x:len(x))\n"
   ]
  },
  {
   "cell_type": "code",
   "execution_count": 103,
   "metadata": {},
   "outputs": [
    {
     "output_type": "execute_result",
     "data": {
      "text/plain": [
       "  Nama  Test1  Test2  Test3\n",
       "0    A     67     70     80\n",
       "1    B     45     86     86\n",
       "2    C     68     79     78\n",
       "3    D     78     97     85\n",
       "4    E     96     68     48"
      ],
      "text/html": "<div>\n<style scoped>\n    .dataframe tbody tr th:only-of-type {\n        vertical-align: middle;\n    }\n\n    .dataframe tbody tr th {\n        vertical-align: top;\n    }\n\n    .dataframe thead th {\n        text-align: right;\n    }\n</style>\n<table border=\"1\" class=\"dataframe\">\n  <thead>\n    <tr style=\"text-align: right;\">\n      <th></th>\n      <th>Nama</th>\n      <th>Test1</th>\n      <th>Test2</th>\n      <th>Test3</th>\n    </tr>\n  </thead>\n  <tbody>\n    <tr>\n      <th>0</th>\n      <td>A</td>\n      <td>67</td>\n      <td>70</td>\n      <td>80</td>\n    </tr>\n    <tr>\n      <th>1</th>\n      <td>B</td>\n      <td>45</td>\n      <td>86</td>\n      <td>86</td>\n    </tr>\n    <tr>\n      <th>2</th>\n      <td>C</td>\n      <td>68</td>\n      <td>79</td>\n      <td>78</td>\n    </tr>\n    <tr>\n      <th>3</th>\n      <td>D</td>\n      <td>78</td>\n      <td>97</td>\n      <td>85</td>\n    </tr>\n    <tr>\n      <th>4</th>\n      <td>E</td>\n      <td>96</td>\n      <td>68</td>\n      <td>48</td>\n    </tr>\n  </tbody>\n</table>\n</div>"
     },
     "metadata": {},
     "execution_count": 103
    }
   ],
   "source": [
    "test1"
   ]
  },
  {
   "cell_type": "code",
   "execution_count": 105,
   "metadata": {},
   "outputs": [],
   "source": [
    "test1['Nilai Akhir'] = (test1['Test1'] + test1['Test2'] + test1['Test3']) / 3"
   ]
  },
  {
   "cell_type": "code",
   "execution_count": 106,
   "metadata": {},
   "outputs": [
    {
     "output_type": "execute_result",
     "data": {
      "text/plain": [
       "  Nama  Test1  Test2  Test3  Hasil Akhir\n",
       "0    A     67     70     80    72.333333\n",
       "1    B     45     86     86    72.333333\n",
       "2    C     68     79     78    75.000000\n",
       "3    D     78     97     85    86.666667\n",
       "4    E     96     68     48    70.666667"
      ],
      "text/html": "<div>\n<style scoped>\n    .dataframe tbody tr th:only-of-type {\n        vertical-align: middle;\n    }\n\n    .dataframe tbody tr th {\n        vertical-align: top;\n    }\n\n    .dataframe thead th {\n        text-align: right;\n    }\n</style>\n<table border=\"1\" class=\"dataframe\">\n  <thead>\n    <tr style=\"text-align: right;\">\n      <th></th>\n      <th>Nama</th>\n      <th>Test1</th>\n      <th>Test2</th>\n      <th>Test3</th>\n      <th>Hasil Akhir</th>\n    </tr>\n  </thead>\n  <tbody>\n    <tr>\n      <th>0</th>\n      <td>A</td>\n      <td>67</td>\n      <td>70</td>\n      <td>80</td>\n      <td>72.333333</td>\n    </tr>\n    <tr>\n      <th>1</th>\n      <td>B</td>\n      <td>45</td>\n      <td>86</td>\n      <td>86</td>\n      <td>72.333333</td>\n    </tr>\n    <tr>\n      <th>2</th>\n      <td>C</td>\n      <td>68</td>\n      <td>79</td>\n      <td>78</td>\n      <td>75.000000</td>\n    </tr>\n    <tr>\n      <th>3</th>\n      <td>D</td>\n      <td>78</td>\n      <td>97</td>\n      <td>85</td>\n      <td>86.666667</td>\n    </tr>\n    <tr>\n      <th>4</th>\n      <td>E</td>\n      <td>96</td>\n      <td>68</td>\n      <td>48</td>\n      <td>70.666667</td>\n    </tr>\n  </tbody>\n</table>\n</div>"
     },
     "metadata": {},
     "execution_count": 106
    }
   ],
   "source": [
    "test1"
   ]
  },
  {
   "cell_type": "code",
   "execution_count": 115,
   "metadata": {},
   "outputs": [],
   "source": [
    "data = {'Daerah': ['Jakarta','Jakarta','BSD','BSD','BSD','Jakarta'],\n",
    "'Cuaca': ['Hujan','Hujan','Cerah','Cerah','Hujan','Hujan'],\n",
    "'Temperatur':['Dingin','Dingin','Panas','Dingin','Dingin','Dingin'],\n",
    "'Penjualan Payung':[12,15,9,0,15,17]}\n",
    "data1=pd.DataFrame(data)"
   ]
  },
  {
   "cell_type": "code",
   "execution_count": 116,
   "metadata": {},
   "outputs": [
    {
     "output_type": "execute_result",
     "data": {
      "text/plain": [
       "    Daerah  Cuaca Temperatur  Penjualan Payung\n",
       "0  Jakarta  Hujan     Dingin                12\n",
       "1  Jakarta  Hujan     Dingin                15\n",
       "2      BSD  Cerah      Panas                 9\n",
       "3      BSD  Cerah     Dingin                 0\n",
       "4      BSD  Hujan     Dingin                15\n",
       "5  Jakarta  Hujan     Dingin                17"
      ],
      "text/html": "<div>\n<style scoped>\n    .dataframe tbody tr th:only-of-type {\n        vertical-align: middle;\n    }\n\n    .dataframe tbody tr th {\n        vertical-align: top;\n    }\n\n    .dataframe thead th {\n        text-align: right;\n    }\n</style>\n<table border=\"1\" class=\"dataframe\">\n  <thead>\n    <tr style=\"text-align: right;\">\n      <th></th>\n      <th>Daerah</th>\n      <th>Cuaca</th>\n      <th>Temperatur</th>\n      <th>Penjualan Payung</th>\n    </tr>\n  </thead>\n  <tbody>\n    <tr>\n      <th>0</th>\n      <td>Jakarta</td>\n      <td>Hujan</td>\n      <td>Dingin</td>\n      <td>12</td>\n    </tr>\n    <tr>\n      <th>1</th>\n      <td>Jakarta</td>\n      <td>Hujan</td>\n      <td>Dingin</td>\n      <td>15</td>\n    </tr>\n    <tr>\n      <th>2</th>\n      <td>BSD</td>\n      <td>Cerah</td>\n      <td>Panas</td>\n      <td>9</td>\n    </tr>\n    <tr>\n      <th>3</th>\n      <td>BSD</td>\n      <td>Cerah</td>\n      <td>Dingin</td>\n      <td>0</td>\n    </tr>\n    <tr>\n      <th>4</th>\n      <td>BSD</td>\n      <td>Hujan</td>\n      <td>Dingin</td>\n      <td>15</td>\n    </tr>\n    <tr>\n      <th>5</th>\n      <td>Jakarta</td>\n      <td>Hujan</td>\n      <td>Dingin</td>\n      <td>17</td>\n    </tr>\n  </tbody>\n</table>\n</div>"
     },
     "metadata": {},
     "execution_count": 116
    }
   ],
   "source": [
    "data1"
   ]
  },
  {
   "cell_type": "code",
   "execution_count": 117,
   "metadata": {},
   "outputs": [
    {
     "output_type": "execute_result",
     "data": {
      "text/plain": [
       "Temperatur        Dingin  Panas\n",
       "Daerah  Cuaca                  \n",
       "BSD     Cerah   0.000000    9.0\n",
       "        Hujan  15.000000    NaN\n",
       "Jakarta Hujan  14.666667    NaN"
      ],
      "text/html": "<div>\n<style scoped>\n    .dataframe tbody tr th:only-of-type {\n        vertical-align: middle;\n    }\n\n    .dataframe tbody tr th {\n        vertical-align: top;\n    }\n\n    .dataframe thead th {\n        text-align: right;\n    }\n</style>\n<table border=\"1\" class=\"dataframe\">\n  <thead>\n    <tr style=\"text-align: right;\">\n      <th></th>\n      <th>Temperatur</th>\n      <th>Dingin</th>\n      <th>Panas</th>\n    </tr>\n    <tr>\n      <th>Daerah</th>\n      <th>Cuaca</th>\n      <th></th>\n      <th></th>\n    </tr>\n  </thead>\n  <tbody>\n    <tr>\n      <th rowspan=\"2\" valign=\"top\">BSD</th>\n      <th>Cerah</th>\n      <td>0.000000</td>\n      <td>9.0</td>\n    </tr>\n    <tr>\n      <th>Hujan</th>\n      <td>15.000000</td>\n      <td>NaN</td>\n    </tr>\n    <tr>\n      <th>Jakarta</th>\n      <th>Hujan</th>\n      <td>14.666667</td>\n      <td>NaN</td>\n    </tr>\n  </tbody>\n</table>\n</div>"
     },
     "metadata": {},
     "execution_count": 117
    }
   ],
   "source": [
    "data1.pivot_table(values='Penjualan Payung',index=['Daerah','Cuaca'],columns=['Temperatur'])"
   ]
  },
  {
   "cell_type": "code",
   "execution_count": null,
   "metadata": {},
   "outputs": [],
   "source": []
  }
 ]
}